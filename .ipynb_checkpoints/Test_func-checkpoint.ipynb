{
 "cells": [
  {
   "cell_type": "code",
   "execution_count": 1,
   "metadata": {},
   "outputs": [],
   "source": [
    "import numpy as np"
   ]
  },
  {
   "cell_type": "code",
   "execution_count": 25,
   "metadata": {},
   "outputs": [],
   "source": [
    "def roll_zeropad(a, shift, axis=None):\n",
    "    a = np.asanyarray(a)\n",
    "\n",
    "    if shift == 0:\n",
    "        return a\n",
    "\n",
    "    if axis is None:\n",
    "        n = a.size\n",
    "        print(n)\n",
    "        reshape = True\n",
    "    else:\n",
    "        n = a.shape[axis]\n",
    "        reshape = False\n",
    "\n",
    "    if np.abs(shift) > n:\n",
    "        res = np.zeros_like(a)\n",
    "    elif shift < 0:\n",
    "        shift += n\n",
    "        zeros = np.zeros_like(a.take(np.arange(n-shift), axis))\n",
    "        print(zeros)\n",
    "        res = np.concatenate((a.take(np.arange(n-shift, n), axis), zeros), axis)\n",
    "        print(res)\n",
    "    else:\n",
    "        zeros = np.zeros_like(a.take(np.arange(n-shift, n), axis))\n",
    "        res = np.concatenate((zeros, a.take(np.arange(n-shift), axis)), axis)\n",
    "\n",
    "    if reshape:\n",
    "        return res.reshape(a.shape)\n",
    "    else:\n",
    "        return res"
   ]
  },
  {
   "cell_type": "code",
   "execution_count": 26,
   "metadata": {},
   "outputs": [
    {
     "data": {
      "text/plain": [
       "array([[1, 2, 3],\n",
       "       [3, 4, 5],\n",
       "       [7, 8, 9],\n",
       "       [2, 3, 4]])"
      ]
     },
     "execution_count": 26,
     "metadata": {},
     "output_type": "execute_result"
    }
   ],
   "source": [
    "a = np.array([[1,2,3],[3,4,5],[7,8,9],[2,3,4]])\n",
    "a"
   ]
  },
  {
   "cell_type": "code",
   "execution_count": 27,
   "metadata": {},
   "outputs": [
    {
     "name": "stdout",
     "output_type": "stream",
     "text": [
      "[[0 0 0]\n",
      " [0 0 0]\n",
      " [0 0 0]\n",
      " [0 0 0]]\n",
      "[[0 0 0]\n",
      " [0 0 0]\n",
      " [0 0 0]\n",
      " [0 0 0]]\n"
     ]
    },
    {
     "data": {
      "text/plain": [
       "array([[0, 0, 0],\n",
       "       [0, 0, 0],\n",
       "       [0, 0, 0],\n",
       "       [0, 0, 0]])"
      ]
     },
     "execution_count": 27,
     "metadata": {},
     "output_type": "execute_result"
    }
   ],
   "source": [
    "roll_zeropad(a, -3, axis = 1)"
   ]
  },
  {
   "cell_type": "code",
   "execution_count": 51,
   "metadata": {},
   "outputs": [],
   "source": [
    "import math\n",
    "import numpy as np\n",
    "import multiprocessing\n",
    "from numpy.random import randint\n",
    "from numpy.linalg import norm, eigh\n",
    "from numpy.fft import fft, ifft\n",
    "\n",
    "def _ncc_c_3dim(data):\n",
    "    x, y = data[0], data[1]\n",
    "    # norm is correct den is correct\n",
    "    den = norm(x, axis=(0, 1)) * norm(y, axis=(0, 1))\n",
    "    # Why???\n",
    "    if den < 1e-9:\n",
    "        den = np.inf\n",
    "\n",
    "    x_len = x.shape[0]\n",
    "    print(x_len)\n",
    "    fft_size = 1 << (2*x_len-1).bit_length()\n",
    "\n",
    "    cc = ifft(fft(x, fft_size, axis=0) * np.conj(fft(y, fft_size, axis=0)), axis=0)\n",
    "    cc = np.concatenate((cc[-(x_len-1):], cc[:x_len]), axis=0)\n",
    "\n",
    "    return np.real(cc).sum(axis=-1) / den"
   ]
  },
  {
   "cell_type": "code",
   "execution_count": 52,
   "metadata": {},
   "outputs": [
    {
     "data": {
      "text/plain": [
       "array([[[1, 2, 3],\n",
       "        [3, 4, 5]],\n",
       "\n",
       "       [[5, 6, 7],\n",
       "        [7, 8, 9]]])"
      ]
     },
     "execution_count": 52,
     "metadata": {},
     "output_type": "execute_result"
    }
   ],
   "source": [
    "data = np.array([[[1,2,3],[3,4,5]],[[5,6,7],[7,8,9]]])\n",
    "data"
   ]
  },
  {
   "cell_type": "code",
   "execution_count": 53,
   "metadata": {},
   "outputs": [
    {
     "name": "stdout",
     "output_type": "stream",
     "text": [
      "2\n"
     ]
    },
    {
     "data": {
      "text/plain": [
       "array([0.35846208, 0.97501687, 0.53052388])"
      ]
     },
     "execution_count": 53,
     "metadata": {},
     "output_type": "execute_result"
    }
   ],
   "source": [
    "_ncc_c_3dim(data)"
   ]
  },
  {
   "cell_type": "code",
   "execution_count": 1,
   "metadata": {},
   "outputs": [],
   "source": [
    "# tslearn test"
   ]
  },
  {
   "cell_type": "code",
   "execution_count": 2,
   "metadata": {},
   "outputs": [
    {
     "ename": "ModuleNotFoundError",
     "evalue": "No module named 'tslearn'",
     "output_type": "error",
     "traceback": [
      "\u001b[1;31m---------------------------------------------------------------------------\u001b[0m",
      "\u001b[1;31mModuleNotFoundError\u001b[0m                       Traceback (most recent call last)",
      "Cell \u001b[1;32mIn [2], line 3\u001b[0m\n\u001b[0;32m      1\u001b[0m \u001b[38;5;28;01mimport\u001b[39;00m \u001b[38;5;21;01mnumpy\u001b[39;00m \u001b[38;5;28;01mas\u001b[39;00m \u001b[38;5;21;01mnp\u001b[39;00m\n\u001b[0;32m      2\u001b[0m \u001b[38;5;28;01mimport\u001b[39;00m \u001b[38;5;21;01mmatplotlib\u001b[39;00m\u001b[38;5;21;01m.\u001b[39;00m\u001b[38;5;21;01mpyplot\u001b[39;00m \u001b[38;5;28;01mas\u001b[39;00m \u001b[38;5;21;01mplt\u001b[39;00m\n\u001b[1;32m----> 3\u001b[0m \u001b[38;5;28;01mfrom\u001b[39;00m \u001b[38;5;21;01mtslearn\u001b[39;00m\u001b[38;5;21;01m.\u001b[39;00m\u001b[38;5;21;01mclustering\u001b[39;00m \u001b[38;5;28;01mimport\u001b[39;00m KShape, TimeSeriesKMeans\n\u001b[0;32m      4\u001b[0m \u001b[38;5;28;01mfrom\u001b[39;00m \u001b[38;5;21;01mtslearn\u001b[39;00m\u001b[38;5;21;01m.\u001b[39;00m\u001b[38;5;21;01mpreprocessing\u001b[39;00m \u001b[38;5;28;01mimport\u001b[39;00m TimeSeriesScalerMeanVariance\n\u001b[0;32m      7\u001b[0m \u001b[38;5;28;01mdef\u001b[39;00m \u001b[38;5;21mmake_test_data\u001b[39m(motif_length \u001b[38;5;241m=\u001b[39m \u001b[38;5;241m100\u001b[39m):\n",
      "\u001b[1;31mModuleNotFoundError\u001b[0m: No module named 'tslearn'"
     ]
    }
   ],
   "source": [
    "import numpy as np\n",
    "import matplotlib.pyplot as plt\n",
    "from tslearn.clustering import KShape, TimeSeriesKMeans\n",
    "from tslearn.preprocessing import TimeSeriesScalerMeanVariance\n",
    "\n",
    "\n",
    "def make_test_data(motif_length = 100):\n",
    "    n_dims = 3\n",
    "    motif1 = np.sin(np.linspace(0, np.pi, motif_length))\n",
    "    motif2 = np.sin(np.linspace(0, 2*np.pi, motif_length))\n",
    "    data = np.random.uniform(size = (motif_length, n_dims))\n",
    "    for dim in range(n_dims):\n",
    "        if np.random.random() <= 0.5:\n",
    "            data[:,dim] += motif1\n",
    "        else:\n",
    "            data[:,dim] += motif2\n",
    "    return data.T    \n",
    "\n",
    "\n",
    "def plot_output(model, name):\n",
    "    #create a figure\n",
    "    fig, ax = plt.subplots(3,8, sharex = True, sharey = True, figsize = (10,10))\n",
    "    fig.subplots_adjust(hspace = 0, wspace = 0)\n",
    "    fig.suptitle(name)\n",
    "    \n",
    "    #set ylabels\n",
    "    for i in range(3):\n",
    "        ax[i,0].set_yticks([])\n",
    "        ax[i,0].set_ylabel(f\"dim {i}\")\n",
    "    \n",
    "    #plot each motif on the axes associated with the cluster label.\n",
    "    for motif, l in zip(motifs, model.labels_):\n",
    "        for i, trace in enumerate(motif.T):\n",
    "            ax[i,l].plot(trace, alpha = 0.05, lw = 0.2, c = \"gray\")\n",
    "    \n",
    "    #plot the cluster centers on top in red\n",
    "    for i, center in enumerate(model.cluster_centers_):\n",
    "        ax[0, i].set_title(f\"cluster {i}\")\n",
    "        for j in range(np.min(center.shape)):\n",
    "            ax[j,i].plot(center[:,j], c = \"r\", alpha = 0.8, lw = 0.5)\n",
    "\n",
    "#generate test data\n",
    "motifs = np.dstack([make_test_data() for _ in range(1000)]).T\n",
    "\n",
    "#fit TimeSeriesKMeans model for comparison\n",
    "kmeans = TimeSeriesKMeans(n_clusters = 8, n_init = 5, max_iter = 100)\n",
    "kmeans.fit(motifs)\n",
    "\n",
    "#fit KShape model\n",
    "kshapes = KShape(n_clusters = 8, n_init = 5, max_iter = 100)\n",
    "kshapes.fit(motifs)\n",
    "\n",
    "models = {\"kmeans\": kmeans,\n",
    "          \"kshapes\": kshapes}\n",
    "#Visualize the models\n",
    "for model in models.keys():\n",
    "    plot_output(models[model], model)"
   ]
  },
  {
   "cell_type": "code",
   "execution_count": null,
   "metadata": {},
   "outputs": [],
   "source": []
  }
 ],
 "metadata": {
  "kernelspec": {
   "display_name": "Python 3 (ipykernel)",
   "language": "python",
   "name": "python3"
  },
  "language_info": {
   "codemirror_mode": {
    "name": "ipython",
    "version": 3
   },
   "file_extension": ".py",
   "mimetype": "text/x-python",
   "name": "python",
   "nbconvert_exporter": "python",
   "pygments_lexer": "ipython3",
   "version": "3.8.15"
  }
 },
 "nbformat": 4,
 "nbformat_minor": 2
}
